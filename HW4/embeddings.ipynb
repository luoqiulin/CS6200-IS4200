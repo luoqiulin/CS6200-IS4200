{
  "nbformat": 4,
  "nbformat_minor": 0,
  "metadata": {
    "colab": {
      "provenance": []
    },
    "kernelspec": {
      "name": "python3",
      "display_name": "Python 3"
    }
  },
  "cells": [
    {
      "cell_type": "markdown",
      "metadata": {
        "id": "oDsn_Motja8Q"
      },
      "source": [
        "# Cross-Language Word Embeddings\n",
        "\n",
        "In class, we discussed how we can reduce the dimensionality of word representations from their original vector space to an embedding space on the order of a few hundred dimensions. Different modeling choices for word embeddings may be ultimately evaluated by the effectiveness of classification or retrieval models.\n",
        "\n",
        "In this assignment, however, we will consider another common method of evaluating word embeddings: by judging the usefulness of pairwise distances between words in the embedding space.\n",
        "\n",
        "Follow along with the examples in this notebook, and implement the sections of code flagged with **TODO**."
      ]
    },
    {
      "cell_type": "code",
      "metadata": {
        "id": "UKm5cPMQ2xHU"
      },
      "source": [
        "import gensim\n",
        "import numpy as np\n",
        "from gensim.test.utils import datapath, get_tmpfile\n",
        "from gensim.models import Word2Vec\n",
        "from gensim.models.word2vec import LineSentence"
      ],
      "execution_count": 1,
      "outputs": []
    },
    {
      "cell_type": "markdown",
      "metadata": {
        "id": "sfKjYFDklB4c"
      },
      "source": [
        "We'll start by downloading a plain-text version of the plays of William Shakespeare."
      ]
    },
    {
      "cell_type": "code",
      "metadata": {
        "id": "Dw3bvl1yf5FB",
        "outputId": "5ba27ba0-e085-4ec0-8fca-9cd39f598a4b",
        "colab": {
          "base_uri": "https://localhost:8080/"
        }
      },
      "source": [
        "!wget http://www.ccs.neu.edu/home/dasmith/courses/cs6200/shakespeare_plays.txt\n",
        "lines = [s.split() for s in open('shakespeare_plays.txt')]"
      ],
      "execution_count": 2,
      "outputs": [
        {
          "output_type": "stream",
          "name": "stdout",
          "text": [
            "--2022-12-13 20:06:45--  http://www.ccs.neu.edu/home/dasmith/courses/cs6200/shakespeare_plays.txt\n",
            "Resolving www.ccs.neu.edu (www.ccs.neu.edu)... 52.70.229.197\n",
            "Connecting to www.ccs.neu.edu (www.ccs.neu.edu)|52.70.229.197|:80... connected.\n",
            "HTTP request sent, awaiting response... 301 Moved Permanently\n",
            "Location: https://www.ccs.neu.edu/home/dasmith/courses/cs6200/shakespeare_plays.txt [following]\n",
            "--2022-12-13 20:06:46--  https://www.ccs.neu.edu/home/dasmith/courses/cs6200/shakespeare_plays.txt\n",
            "Connecting to www.ccs.neu.edu (www.ccs.neu.edu)|52.70.229.197|:443... connected.\n",
            "HTTP request sent, awaiting response... 200 OK\n",
            "Length: 4746840 (4.5M) [text/plain]\n",
            "Saving to: ‘shakespeare_plays.txt’\n",
            "\n",
            "shakespeare_plays.t 100%[===================>]   4.53M  3.48MB/s    in 1.3s    \n",
            "\n",
            "2022-12-13 20:06:48 (3.48 MB/s) - ‘shakespeare_plays.txt’ saved [4746840/4746840]\n",
            "\n"
          ]
        }
      ]
    },
    {
      "cell_type": "markdown",
      "metadata": {
        "id": "5cZ52pEflKKM"
      },
      "source": [
        "Then, we'll estimate a simple word2vec model on the Shakespeare texts."
      ]
    },
    {
      "cell_type": "code",
      "metadata": {
        "id": "eXT5BNPs_zjM"
      },
      "source": [
        "model = Word2Vec(lines)"
      ],
      "execution_count": 3,
      "outputs": []
    },
    {
      "cell_type": "markdown",
      "metadata": {
        "id": "Fzt3lG1-lw33"
      },
      "source": [
        "Even with such a small training set size, you can perform some standard analogy tasks we discussed in class."
      ]
    },
    {
      "cell_type": "code",
      "metadata": {
        "id": "i4ruAqhKC3-R",
        "outputId": "7abad7f8-787b-4e53-a669-14d4332baf44",
        "colab": {
          "base_uri": "https://localhost:8080/"
        }
      },
      "source": [
        "model.wv.most_similar(positive=['king','woman'], negative=['man'])"
      ],
      "execution_count": 4,
      "outputs": [
        {
          "output_type": "execute_result",
          "data": {
            "text/plain": [
              "[('queen', 0.7911697626113892),\n",
              " ('prince', 0.7724463939666748),\n",
              " ('duke', 0.7428550720214844),\n",
              " ('york', 0.7409319877624512),\n",
              " ('clarence', 0.7393580079078674),\n",
              " ('warwick', 0.709246039390564),\n",
              " ('gloucester', 0.7075702548027039),\n",
              " ('france', 0.679452121257782),\n",
              " ('margaret', 0.6726255416870117),\n",
              " ('princess', 0.6689456701278687)]"
            ]
          },
          "metadata": {},
          "execution_count": 4
        }
      ]
    },
    {
      "cell_type": "markdown",
      "metadata": {
        "id": "AJL45y5emjA9"
      },
      "source": [
        "In other words, we want a vector close to `king` and `woman` but subtracting the dimensions that are important to `man`, i.e., `queen`. Other words are mostly noble titles important in Shakespeare's \"history\" plays.\n",
        "\n",
        "For the rest of this assignment, we will focus on finding words with similar embeddings, both within and across languages. For example, what words are similar to the name of the title character of *Othello*?"
      ]
    },
    {
      "cell_type": "code",
      "metadata": {
        "id": "1EZGroU0KPyj",
        "outputId": "7c4d482c-ee02-4052-d1d9-47c699a957a8",
        "colab": {
          "base_uri": "https://localhost:8080/"
        }
      },
      "source": [
        "model.wv.most_similar(positive=['othello'])\n",
        "#model.wv.most_similar(positive=['brutus'])"
      ],
      "execution_count": 5,
      "outputs": [
        {
          "output_type": "execute_result",
          "data": {
            "text/plain": [
              "[('desdemona', 0.967544674873352),\n",
              " ('iago', 0.9441386461257935),\n",
              " ('ham', 0.9032383561134338),\n",
              " ('cassio', 0.903009831905365),\n",
              " ('cressida', 0.9018601179122925),\n",
              " ('imogen', 0.8982028961181641),\n",
              " ('cleopatra', 0.8936619758605957),\n",
              " ('pisanio', 0.8936125040054321),\n",
              " ('rosalind', 0.8899244070053101),\n",
              " ('emilia', 0.8834909200668335)]"
            ]
          },
          "metadata": {},
          "execution_count": 5
        }
      ]
    },
    {
      "cell_type": "markdown",
      "metadata": {
        "id": "UM2BT_7zZle3"
      },
      "source": [
        "If you know the play, you might see some familiar names.\n",
        "\n",
        "This search uses cosine similarity. In the default API, you should see the same similarity between the words `othello` and `desdemona` as in the search results above."
      ]
    },
    {
      "cell_type": "code",
      "metadata": {
        "id": "-e32-u4zYFda",
        "outputId": "50b2bb2d-921c-4b4c-ed36-9e16e9194ccb",
        "colab": {
          "base_uri": "https://localhost:8080/"
        }
      },
      "source": [
        "model.wv.similarity('othello', 'desdemona')"
      ],
      "execution_count": 6,
      "outputs": [
        {
          "output_type": "execute_result",
          "data": {
            "text/plain": [
              "0.9675447"
            ]
          },
          "metadata": {},
          "execution_count": 6
        }
      ]
    },
    {
      "cell_type": "markdown",
      "metadata": {
        "id": "c49DwfAmZ6PU"
      },
      "source": [
        "**TODO**: Your **first task**, therefore, is to implement your own cosine similarity function so that you can reuse it outside of the context of the gensim model object."
      ]
    },
    {
      "cell_type": "code",
      "metadata": {
        "id": "rEj2PqpuZ5xs",
        "outputId": "7f17fd07-1483-4eac-ac47-9a6dcc420a0e",
        "colab": {
          "base_uri": "https://localhost:8080/"
        }
      },
      "source": [
        "## TODO: Implement cosim\n",
        "import numpy as np\n",
        "from numpy.linalg import norm\n",
        "\n",
        "def cosim(v1, v2):\n",
        "  ## return cosine similarity between v1 and v2\n",
        "  return np.dot(v1, v2) / (norm(v1) * norm(v2))\n",
        "\n",
        "## This should give a result similar to model.wv.similarity:\n",
        "cosim(model.wv['othello'], model.wv['desdemona'])"
      ],
      "execution_count": 7,
      "outputs": [
        {
          "output_type": "execute_result",
          "data": {
            "text/plain": [
              "0.9675446"
            ]
          },
          "metadata": {},
          "execution_count": 7
        }
      ]
    },
    {
      "cell_type": "markdown",
      "metadata": {
        "id": "3TbDqBIHbHfB"
      },
      "source": [
        "## Evaluation\n",
        "\n",
        "We could collect a lot of human judgments about how similar pairs of words, or pairs of Shakespearean characters, are. Then we could compare different word-embedding models by their ability to replicate these human judgments.\n",
        "\n",
        "If we extend our ambition to multiple languages, however, we can use a word translation task to evaluate word embeddings.\n",
        "\n",
        "We will use a subset of [Facebook AI's FastText cross-language embeddings](https://fasttext.cc/docs/en/aligned-vectors.html) for several languages. Your task will be to compare English both to French, and to *one more language* from the following set: Arabic, German, Portuguese, Russian, Spanish, Vietnamese, and Chinese."
      ]
    },
    {
      "cell_type": "code",
      "metadata": {
        "id": "FC_FXRnfq1BO",
        "colab": {
          "base_uri": "https://localhost:8080/"
        },
        "outputId": "6928a657-4cee-48ae-84b2-664fee620593"
      },
      "source": [
        "!wget http://www.ccs.neu.edu/home/dasmith/courses/cs6200/30k.en.vec\n",
        "!wget http://www.ccs.neu.edu/home/dasmith/courses/cs6200/30k.fr.vec\n",
        "\n",
        "# TODO: uncomment at least one of these to work with another language\n",
        "# !wget http://www.ccs.neu.edu/home/dasmith/courses/cs6200/30k.ar.vec\n",
        "# !wget http://www.ccs.neu.edu/home/dasmith/courses/cs6200/30k.de.vec\n",
        "# !wget http://www.ccs.neu.edu/home/dasmith/courses/cs6200/30k.pt.vec\n",
        "# !wget http://www.ccs.neu.edu/home/dasmith/courses/cs6200/30k.ru.vec\n",
        "# !wget http://www.ccs.neu.edu/home/dasmith/courses/cs6200/30k.es.vec\n",
        "# !wget http://www.ccs.neu.edu/home/dasmith/courses/cs6200/30k.vi.vec\n",
        "!wget http://www.ccs.neu.edu/home/dasmith/courses/cs6200/30k.zh.vec"
      ],
      "execution_count": 8,
      "outputs": [
        {
          "output_type": "stream",
          "name": "stdout",
          "text": [
            "--2022-12-13 20:07:09--  http://www.ccs.neu.edu/home/dasmith/courses/cs6200/30k.en.vec\n",
            "Resolving www.ccs.neu.edu (www.ccs.neu.edu)... 52.70.229.197\n",
            "Connecting to www.ccs.neu.edu (www.ccs.neu.edu)|52.70.229.197|:80... connected.\n",
            "HTTP request sent, awaiting response... 301 Moved Permanently\n",
            "Location: https://www.ccs.neu.edu/home/dasmith/courses/cs6200/30k.en.vec [following]\n",
            "--2022-12-13 20:07:10--  https://www.ccs.neu.edu/home/dasmith/courses/cs6200/30k.en.vec\n",
            "Connecting to www.ccs.neu.edu (www.ccs.neu.edu)|52.70.229.197|:443... connected.\n",
            "HTTP request sent, awaiting response... 200 OK\n",
            "Length: 67681172 (65M)\n",
            "Saving to: ‘30k.en.vec’\n",
            "\n",
            "30k.en.vec          100%[===================>]  64.54M  12.9MB/s    in 6.1s    \n",
            "\n",
            "2022-12-13 20:07:17 (10.6 MB/s) - ‘30k.en.vec’ saved [67681172/67681172]\n",
            "\n",
            "--2022-12-13 20:07:17--  http://www.ccs.neu.edu/home/dasmith/courses/cs6200/30k.fr.vec\n",
            "Resolving www.ccs.neu.edu (www.ccs.neu.edu)... 52.70.229.197\n",
            "Connecting to www.ccs.neu.edu (www.ccs.neu.edu)|52.70.229.197|:80... connected.\n",
            "HTTP request sent, awaiting response... 301 Moved Permanently\n",
            "Location: https://www.ccs.neu.edu/home/dasmith/courses/cs6200/30k.fr.vec [following]\n",
            "--2022-12-13 20:07:17--  https://www.ccs.neu.edu/home/dasmith/courses/cs6200/30k.fr.vec\n",
            "Connecting to www.ccs.neu.edu (www.ccs.neu.edu)|52.70.229.197|:443... connected.\n",
            "HTTP request sent, awaiting response... 200 OK\n",
            "Length: 67802327 (65M)\n",
            "Saving to: ‘30k.fr.vec’\n",
            "\n",
            "30k.fr.vec          100%[===================>]  64.66M  12.9MB/s    in 6.1s    \n",
            "\n",
            "2022-12-13 20:07:24 (10.7 MB/s) - ‘30k.fr.vec’ saved [67802327/67802327]\n",
            "\n",
            "--2022-12-13 20:07:25--  http://www.ccs.neu.edu/home/dasmith/courses/cs6200/30k.zh.vec\n",
            "Resolving www.ccs.neu.edu (www.ccs.neu.edu)... 52.70.229.197\n",
            "Connecting to www.ccs.neu.edu (www.ccs.neu.edu)|52.70.229.197|:80... connected.\n",
            "HTTP request sent, awaiting response... 301 Moved Permanently\n",
            "Location: https://www.ccs.neu.edu/home/dasmith/courses/cs6200/30k.zh.vec [following]\n",
            "--2022-12-13 20:07:25--  https://www.ccs.neu.edu/home/dasmith/courses/cs6200/30k.zh.vec\n",
            "Connecting to www.ccs.neu.edu (www.ccs.neu.edu)|52.70.229.197|:443... connected.\n",
            "HTTP request sent, awaiting response... 200 OK\n",
            "Length: 67627343 (64M)\n",
            "Saving to: ‘30k.zh.vec’\n",
            "\n",
            "30k.zh.vec          100%[===================>]  64.49M  13.4MB/s    in 5.9s    \n",
            "\n",
            "2022-12-13 20:07:32 (11.0 MB/s) - ‘30k.zh.vec’ saved [67627343/67627343]\n",
            "\n"
          ]
        }
      ]
    },
    {
      "cell_type": "markdown",
      "metadata": {
        "id": "nmuIvGpNrJPe"
      },
      "source": [
        "We'll start by loading the word vectors from their textual file format to a dictionary mapping words to numpy arrays."
      ]
    },
    {
      "cell_type": "code",
      "metadata": {
        "id": "VbWORXkP2Vvn"
      },
      "source": [
        "def vecref(s):\n",
        "  (word, srec) = s.split(' ', 1)\n",
        "  return (word, np.fromstring(srec, sep=' '))\n",
        "\n",
        "def ftvectors(fname):\n",
        "  return { k:v for (k, v) in [vecref(s) for s in open(fname)] if len(v) > 1} \n",
        "\n",
        "envec = ftvectors('30k.en.vec')\n",
        "frvec = ftvectors('30k.fr.vec')\n",
        "\n",
        "# TODO: load vectors for one more language, such as zhvec (Chinese)\n",
        "# arvec = ftvectors('30k.ar.vec')\n",
        "# devec = ftvectors('30k.de.vec')\n",
        "# ptvec = ftvectors('30k.pt.vec')\n",
        "# ruvec = ftvectors('30k.ru.vec')\n",
        "# esvec = ftvectors('30k.es.vec')\n",
        "# vivec = ftvectors('30k.vi.vec')\n",
        "zhvec = ftvectors('30k.zh.vec')"
      ],
      "execution_count": 9,
      "outputs": []
    },
    {
      "cell_type": "markdown",
      "metadata": {
        "id": "j88E1JdueZHc"
      },
      "source": [
        "**TODO**: Your next task is to write a simple function that takes a vector and a dictionary of vectors and finds the most similar item in the dictionary. For this assignment, a linear scan through the dictionary using your `cosim` function from above is acceptible."
      ]
    },
    {
      "cell_type": "code",
      "metadata": {
        "id": "gmdirYOjoSWV",
        "colab": {
          "base_uri": "https://localhost:8080/"
        },
        "outputId": "dc7dc11d-424c-45bd-c4de-771c6896dd91"
      },
      "source": [
        "## TODO: implement this search function\n",
        "def mostSimilar(vec, vecDict):\n",
        "  ## Use your cosim function from above\n",
        "  compare = 0\n",
        "  for k,v in vecDict.items():\n",
        "    cos_result = cosim(vec, v)\n",
        "    if cos_result >= compare:\n",
        "      compare = cos_result\n",
        "      mostSimilar = k\n",
        "      similarity = compare\n",
        "  return (mostSimilar, similarity)\n",
        "\n",
        "## some example searches\n",
        "[mostSimilar(envec[e], frvec) for e in ['computer', 'germany', 'matrix', 'physics', 'yeast']]"
      ],
      "execution_count": 11,
      "outputs": [
        {
          "output_type": "execute_result",
          "data": {
            "text/plain": [
              "[('informatique', 0.5023827767603765),\n",
              " ('allemagne', 0.593718413875964),\n",
              " ('matrice', 0.5088361302065517),\n",
              " ('physique', 0.4555543434796394),\n",
              " ('fermentation', 0.3504105196166514)]"
            ]
          },
          "metadata": {},
          "execution_count": 11
        }
      ]
    },
    {
      "cell_type": "markdown",
      "metadata": {
        "id": "NIKUD5qxpUMB"
      },
      "source": [
        "Some matches make more sense than others. Note that `computer` most closely matches `informatique`, the French term for *computer science*. If you looked further down the list, you would see `ordinateur`, the term for *computer*. This is one weakness of a focus only on embeddings for word *types* independent of context.\n",
        "\n",
        "To evalute cross-language embeddings more broadly, we'll look at a dataset of links between Wikipedia articles."
      ]
    },
    {
      "cell_type": "code",
      "metadata": {
        "id": "az10sIFwsEUP",
        "outputId": "cf1a4f23-293a-4619-cf62-b0be6042bbd5",
        "colab": {
          "base_uri": "https://localhost:8080/"
        }
      },
      "source": [
        "!wget http://www.ccs.neu.edu/home/dasmith/courses/cs6200/links.tab\n",
        "links = [s.split() for s in open('links.tab')]"
      ],
      "execution_count": 12,
      "outputs": [
        {
          "output_type": "stream",
          "name": "stdout",
          "text": [
            "--2022-12-13 20:07:42--  http://www.ccs.neu.edu/home/dasmith/courses/cs6200/links.tab\n",
            "Resolving www.ccs.neu.edu (www.ccs.neu.edu)... 52.70.229.197\n",
            "Connecting to www.ccs.neu.edu (www.ccs.neu.edu)|52.70.229.197|:80... connected.\n",
            "HTTP request sent, awaiting response... 301 Moved Permanently\n",
            "Location: https://www.ccs.neu.edu/home/dasmith/courses/cs6200/links.tab [following]\n",
            "--2022-12-13 20:07:42--  https://www.ccs.neu.edu/home/dasmith/courses/cs6200/links.tab\n",
            "Connecting to www.ccs.neu.edu (www.ccs.neu.edu)|52.70.229.197|:443... connected.\n",
            "HTTP request sent, awaiting response... 200 OK\n",
            "Length: 1408915 (1.3M)\n",
            "Saving to: ‘links.tab’\n",
            "\n",
            "links.tab           100%[===================>]   1.34M  1.22MB/s    in 1.1s    \n",
            "\n",
            "2022-12-13 20:07:44 (1.22 MB/s) - ‘links.tab’ saved [1408915/1408915]\n",
            "\n"
          ]
        }
      ]
    },
    {
      "cell_type": "markdown",
      "metadata": {
        "id": "sqHq0hFCv8NY"
      },
      "source": [
        "This `links` variable consists of triples of `(English term, language, term in that language)`. For example, here is the link between English `academy` and French `académie`:"
      ]
    },
    {
      "cell_type": "code",
      "metadata": {
        "id": "RQ7eusdxtdsq",
        "colab": {
          "base_uri": "https://localhost:8080/"
        },
        "outputId": "55109276-1ec0-49db-db31-fda2caf2f785"
      },
      "source": [
        "links[302]"
      ],
      "execution_count": 13,
      "outputs": [
        {
          "output_type": "execute_result",
          "data": {
            "text/plain": [
              "['academy', 'fr', 'académie']"
            ]
          },
          "metadata": {},
          "execution_count": 13
        }
      ]
    },
    {
      "cell_type": "markdown",
      "source": [
        "We construct a test set for English-French rom the first 1000 links between those languages."
      ],
      "metadata": {
        "id": "oA85pbt3JL1Q"
      }
    },
    {
      "cell_type": "code",
      "source": [
        "frtest = [x for x in links if x[1] == \"fr\"][0:1000]\n",
        "frtest[0:10]"
      ],
      "metadata": {
        "colab": {
          "base_uri": "https://localhost:8080/"
        },
        "id": "wuYkUbkYIwSb",
        "outputId": "ffab3a47-cf85-453f-be25-985c96b1261e"
      },
      "execution_count": 14,
      "outputs": [
        {
          "output_type": "execute_result",
          "data": {
            "text/plain": [
              "[['aalborg', 'fr', 'aalborg'],\n",
              " ['aarhus', 'fr', 'aarhus'],\n",
              " ['aba', 'fr', 'aba'],\n",
              " ['abad', 'fr', 'abad'],\n",
              " ['abandon', 'fr', 'abandon'],\n",
              " ['abbas', 'fr', 'abbas'],\n",
              " ['abbasid', 'fr', 'abbassides'],\n",
              " ['abbess', 'fr', 'abbesse'],\n",
              " ['abbey', 'fr', 'abbaye'],\n",
              " ['abbot', 'fr', 'abbé']]"
            ]
          },
          "metadata": {},
          "execution_count": 14
        }
      ]
    },
    {
      "cell_type": "markdown",
      "metadata": {
        "id": "bYEdOQbmwql3"
      },
      "source": [
        "**TODO**: Evaluate the English and French embeddings by computing the proportion of English Wikipedia articles whose corresponding French article in this test set `frtest` is also the closest word in embedding space. Skip English articles not covered by the word embedding dictionary. Since many articles, e.g., about named entities have the same title in English and French, compute the baseline accuracy achieved by simply echoing the English title as if it were French. Remember to iterate only over English Wikipedia articles, not the entire embedding dictionary."
      ]
    },
    {
      "cell_type": "code",
      "metadata": {
        "id": "RJrTJ3ja91Z4",
        "outputId": "fb1308fc-4b08-4a6d-e04f-7c39ebf3823b",
        "colab": {
          "base_uri": "https://localhost:8080/"
        }
      },
      "source": [
        "## TODO: Compute English-French Wikipedia retrieval accuracy.\n",
        "accuracy = 0\n",
        "counter = 0\n",
        "flag = 0\n",
        "for ele in range(len(frtest)):\n",
        "  if frtest[ele][0] in envec and mostSimilar(envec[frtest[ele][0]], frvec)[0] == frtest[ele][2]:\n",
        "    counter = counter + 1\n",
        "  elif frtest[ele][0] not in envec:\n",
        "    flag = flag + 1\n",
        "accuracy = counter / (1000 - flag)\n",
        "print(accuracy)\n",
        "\n",
        "baselineAccuracy = 0\n",
        "counter = 0\n",
        "for ele in range(len(frtest)):\n",
        "  if frtest[ele][0] == frtest[ele][2]:\n",
        "    counter = counter + 1\n",
        "baselineAccuracy = counter / 1000\n",
        "print(baselineAccuracy)"
      ],
      "execution_count": 15,
      "outputs": [
        {
          "output_type": "stream",
          "name": "stdout",
          "text": [
            "0.575\n",
            "0.661\n"
          ]
        }
      ]
    },
    {
      "cell_type": "markdown",
      "metadata": {
        "id": "7hqd1buq-OEo"
      },
      "source": [
        "**TODO**: Compute accuracy and baseline (identity function) acccuracy for the first 1000 links between English and another language besides French. Although the baseline will be lower for languages not written in the Roman alphabet (i.e., Arabic or Chinese), there are still many articles in those languages with headwords written in Roman characters."
      ]
    },
    {
      "cell_type": "code",
      "metadata": {
        "id": "ZjnKtHya-jmj",
        "outputId": "9adf846a-94a5-4289-f1cd-0ab586a5a7fd",
        "colab": {
          "base_uri": "https://localhost:8080/"
        }
      },
      "source": [
        "## TODO: Compute English-X Wikipedia retrieval accuracy.\n",
        "zhtest = [x for x in links if x[1] == \"zh\"][0:1000]\n",
        "accuracy = 0\n",
        "counter = 0\n",
        "flag = 0\n",
        "for ele in range(len(zhtest)):\n",
        "  if zhtest[ele][0] in zhvec and mostSimilar(envec[zhtest[ele][0]], zhvec)[0] == zhtest[ele][2]:\n",
        "    counter = counter + 1\n",
        "  elif zhtest[ele][0] not in zhvec:\n",
        "    flag = flag + 1\n",
        "accuracy = counter / (1000 - flag)\n",
        "print(accuracy)\n",
        "\n",
        "baselineAccuracy = 0\n",
        "counter = 0\n",
        "for ele in range(len(zhtest)):\n",
        "  if zhtest[ele][0] == zhtest[ele][2]:\n",
        "    counter = counter + 1\n",
        "baselineAccuracy = counter / 1000\n",
        "print(baselineAccuracy)"
      ],
      "execution_count": 16,
      "outputs": [
        {
          "output_type": "stream",
          "name": "stdout",
          "text": [
            "0.2465753424657534\n",
            "0.067\n"
          ]
        }
      ]
    },
    {
      "cell_type": "markdown",
      "metadata": {
        "id": "E6z01sufFPJh"
      },
      "source": [
        "**TODO**: Find the 10 nearest neighbors of each English term to compute \"recall at 10\" and \"mean reciprocal rank at 10\"."
      ]
    },
    {
      "cell_type": "code",
      "source": [
        "## TODO: Compute recall@10 and MRR@10 when retrieving 10 nearest neighbors in French and some other language.\n",
        "import time\n",
        "\n",
        "def most10Similar(vec, vecDict):\n",
        "  compare = 0\n",
        "  contain = []\n",
        "  for k,v in vecDict.items():\n",
        "    cos_result = cosim(vec, v)\n",
        "    if cos_result >= compare:\n",
        "      compare = cos_result\n",
        "      mostSimilar = k\n",
        "      similarity = compare\n",
        "      contain.append((mostSimilar, similarity))\n",
        "  return contain[-10:]\n",
        "\n",
        "eng_fr_recall = []\n",
        "eng_fr_mrr = []\n",
        "eng_zh_recall = []\n",
        "eng_zh_mrr = []\n",
        "\n",
        "start = time.perf_counter()\n",
        "for ele in range(len(frtest)):\n",
        "  neighbors = most10Similar(envec[frtest[ele][0]], frvec)\n",
        "  recall = 0\n",
        "  for item in neighbors:\n",
        "    if item[0] == frtest[ele][2]:\n",
        "      recall = 0.1\n",
        "  eng_fr_recall.append((frtest[ele][0], recall))\n",
        "  mrr = 0\n",
        "  for item in range(len(neighbors)):\n",
        "    if neighbors[item][0] == frtest[ele][2]:\n",
        "      mrr = 1 / (10 - item)\n",
        "  eng_fr_mrr.append((frtest[ele][0], mrr))\n",
        "\n",
        "for ele in range(len(zhtest)):\n",
        "  neighbors = most10Similar(envec[zhtest[ele][0]], zhvec)\n",
        "  recall = 0\n",
        "  for item in neighbors:\n",
        "    if item[0] == zhtest[ele][2]:\n",
        "      recall = 0.1\n",
        "  eng_zh_recall.append((zhtest[ele][0], recall))\n",
        "  mrr = 0\n",
        "  for item in range(len(neighbors)):\n",
        "    if neighbors[item][0] == zhtest[ele][2]:\n",
        "      mrr = 1 / (10 - item)\n",
        "  eng_zh_mrr.append((zhtest[ele][0], mrr))\n",
        "\n",
        "end = time.perf_counter()\n",
        "time_1 = round(end - start)"
      ],
      "metadata": {
        "id": "TgAORWTQl0Sl"
      },
      "execution_count": 174,
      "outputs": []
    },
    {
      "cell_type": "code",
      "source": [
        "eng_fr_recall \n",
        "eng_fr_mrr \n",
        "eng_zh_recall \n",
        "eng_zh_mrr "
      ],
      "metadata": {
        "id": "D0BEStf7vPSq"
      },
      "execution_count": null,
      "outputs": []
    },
    {
      "cell_type": "markdown",
      "source": [
        "## [50 points Extra Credit] Speeding up Vector Search\n",
        "\n",
        "The list of Wikipedia headwords is short enough that a linear scan through the non-English language embeddings takes some time but is feasible. In a production system, you could index the word embeddings using SimHash or some other locality sensitive hashing scheme, as we discussed for duplicate detection, to speed up this process.\n",
        "\n",
        "A relatively easy way to get started with fast vector similarity search is to install Meta's `faiss` (Facebook AI Similarity Search) package and read [the tutorial](https://github.com/facebookresearch/faiss/wiki/Getting-started)."
      ],
      "metadata": {
        "id": "GsXoZaVsYMXR"
      }
    },
    {
      "cell_type": "code",
      "source": [
        "# Outside of colab, you may need a different package manager.\n",
        "!python -m pip install --upgrade pip\n",
        "!apt install libomp-dev\n",
        "!pip install faiss\n",
        "import faiss\n",
        "# Use this line instead if you have a GPU.\n",
        "# !python -m pip install --upgrade faiss faiss-gpu"
      ],
      "metadata": {
        "id": "KSJ-c9PDKHaD"
      },
      "execution_count": null,
      "outputs": []
    },
    {
      "cell_type": "markdown",
      "source": [
        "**TODO**: Create three vector indexes, for the FastText embeddings of English, French, and the other language you evaluated above. Use `faiss` to find the 10 nearest neighbors for the top 1000 Wikipedia headwords you evaluated for English-French and the English-X as above.\n",
        "\n",
        "First, measure the _effectiveness_ of this approximate vector search approach. How does the R@10 and MRR@10 using `faiss` compare to the brute-force search you did above?\n",
        "\n",
        "Second, measure the _efficiency_ of this approach. How long in seconds does finding nearest neighbors for 1000 headwords by brute force compare to using `faiss`? (For this exercise, don't worry about amortizing indexing costs.)"
      ],
      "metadata": {
        "id": "hfr0buVwLz-o"
      }
    },
    {
      "cell_type": "code",
      "source": [
        "amount = 10\n",
        "d = 300\n",
        "index_en = faiss.IndexFlatL2(d)\n",
        "index_fr = faiss.IndexFlatL2(d)\n",
        "index_zh = faiss.IndexFlatL2(d)\n",
        "\n",
        "en_set = []\n",
        "fr_set = []\n",
        "zh_set = []\n",
        "\n",
        "fr_search = []\n",
        "zh_search = []\n",
        "\n",
        "for k,v in envec.items():\n",
        "  en_set.append(v)\n",
        "for k,v in frvec.items():\n",
        "  fr_set.append(v)\n",
        "  fr_search.append(k)\n",
        "for k,v in zhvec.items():\n",
        "  zh_set.append(v)\n",
        "  zh_search.append(k)\n",
        "\n",
        "en_set = np.array(en_set).astype('float32')\n",
        "fr_set = np.array(fr_set).astype('float32')\n",
        "zh_set = np.array(zh_set).astype('float32')\n",
        "\n",
        "index_en.add(en_set)\n",
        "index_fr.add(fr_set)\n",
        "index_zh.add(zh_set)"
      ],
      "metadata": {
        "id": "A0cST1cTpCVt"
      },
      "execution_count": 175,
      "outputs": []
    },
    {
      "cell_type": "code",
      "source": [
        "eng_fr_recall_faiss = []\n",
        "eng_fr_mrr_faiss = []\n",
        "eng_zh_recall_faiss = []\n",
        "eng_zh_mrr_faiss = []\n",
        "\n",
        "start2 = time.perf_counter()\n",
        "for ele in range(len(frtest)):\n",
        "  D, I = index_fr.search(np.array([envec[frtest[ele][0]]]).astype('float32'), amount)\n",
        "  recall = 0\n",
        "  for item in I[0]:\n",
        "    if fr_search[item] == frtest[ele][2]:\n",
        "      recall = 0.1\n",
        "  eng_fr_recall_faiss.append((frtest[ele][0], recall))\n",
        "  mrr = 0\n",
        "  for item in range(len(I)):\n",
        "    if fr_search[I[0][item]] == frtest[ele][2]:\n",
        "      mrr = 1 / (10 - item)\n",
        "  eng_fr_mrr_faiss.append((frtest[ele][0], mrr))\n",
        "\n",
        "for ele in range(len(zhtest)):\n",
        "  D, I = index_fr.search(np.array([envec[zhtest[ele][0]]]).astype('float32'), amount)\n",
        "  recall = 0\n",
        "  for item in I[0]:\n",
        "    if zh_search[item] == zhtest[ele][2]:\n",
        "      recall = 0.1\n",
        "  eng_zh_recall_faiss.append((zhtest[ele][0], recall))\n",
        "  mrr = 0\n",
        "  for item in range(len(I)):\n",
        "    if zh_search[I[0][item]] == zhtest[ele][2]:\n",
        "      mrr = 1 / (10 - item)\n",
        "  eng_zh_mrr_faiss.append((zhtest[ele][0], mrr))\n",
        "\n",
        "end2 = time.perf_counter()\n",
        "time_2 = round(end2 - start2)"
      ],
      "metadata": {
        "id": "anyc7jZkpG5O"
      },
      "execution_count": 176,
      "outputs": []
    },
    {
      "cell_type": "code",
      "source": [
        "eng_fr_recall_faiss \n",
        "eng_fr_mrr_faiss \n",
        "eng_zh_recall_faiss \n",
        "eng_zh_mrr_faiss"
      ],
      "metadata": {
        "id": "nIp2PSQx2sfW"
      },
      "execution_count": null,
      "outputs": []
    },
    {
      "cell_type": "code",
      "source": [
        "print(\"Without faiss: \" + str(time_1) + \" seconds\")\n",
        "print(\"Use faiss: \" + str(time_2) + \" seconds\")"
      ],
      "metadata": {
        "colab": {
          "base_uri": "https://localhost:8080/"
        },
        "id": "3XbJVFb52wtm",
        "outputId": "ac683708-5795-4270-c310-39ac6296eb01"
      },
      "execution_count": 177,
      "outputs": [
        {
          "output_type": "stream",
          "name": "stdout",
          "text": [
            "Without faiss: 719 seconds\n",
            "Use faiss: 12 seconds\n"
          ]
        }
      ]
    }
  ]
}