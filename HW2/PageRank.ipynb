{
  "cells": [
    {
      "cell_type": "markdown",
      "metadata": {
        "id": "Q2QKFIlR6HCY"
      },
      "source": [
        "# PageRank\n",
        "\n",
        "In this assignment, you will compute PageRank on a collection of 469,235 web sites using the iterative version of the PageRank algorithm described in class for sparse graphs (NOT the power method with explicit matrix multiplication).\n",
        "\n",
        "Consider the following directed graph:\n",
        "\n",
        "![A directed link graph](https://ccs.neu.edu/home/dasmith/courses/cs6200/pagerank.jpg)\n",
        "\n",
        "We can represent this graph as a collection of nodes, here, ordered pairs of node index and node name:"
      ]
    },
    {
      "cell_type": "code",
      "execution_count": 1,
      "metadata": {
        "id": "4D_Mxj5pXKPl"
      },
      "outputs": [],
      "source": [
        "small_nodes = [(0, 'A'),\n",
        "        (1, 'B'),\n",
        "        (2, 'C'),\n",
        "        (3, 'D'),\n",
        "        (4, 'E'),\n",
        "        (5, 'F')]"
      ]
    },
    {
      "cell_type": "markdown",
      "metadata": {
        "id": "RTF3JKtTYxiZ"
      },
      "source": [
        "and a collection of directed links, i.e., ordered pairs from source to target:"
      ]
    },
    {
      "cell_type": "code",
      "execution_count": 2,
      "metadata": {
        "id": "-i0V5ueOYDDN"
      },
      "outputs": [],
      "source": [
        "small_edges = [\n",
        " (0, 1),\n",
        " (0, 2),\n",
        " (0, 5),\n",
        " (1, 2),\n",
        " (1, 3),\n",
        " (1, 4),\n",
        " (1, 5),\n",
        " (2, 3),\n",
        " (2, 4),\n",
        " (3, 0),\n",
        " (3, 2),\n",
        " (3, 4),\n",
        " (3, 5),\n",
        " (4, 0),\n",
        " (5, 0),\n",
        " (5, 1),\n",
        " (5, 4)]"
      ]
    },
    {
      "cell_type": "markdown",
      "metadata": {
        "id": "kBVDeszXY4B_"
      },
      "source": [
        "We use integer identifiers for the nodes for efficiency. In most real-world collections of hyperlinks, unlike this example, not every page will have in-links, nor will every page have out-links."
      ]
    },
    {
      "cell_type": "markdown",
      "metadata": {
        "id": "QPNsTGSsEwMX"
      },
      "source": [
        "## First Implementation and Test\n",
        "\n",
        "\\[10 points\\] Implement the iterative PageRank algorithm we discussed in class. Test your code on the six-node example using the input representation given above.  Be sure that your code handles pages that have no in-links or out-links properly.  (You may wish to test on a few such examples.) In later parts of this assignment, depending on how you store the data, it may be convenient to use iterators rather than storing the data in memory."
      ]
    },
    {
      "cell_type": "code",
      "execution_count": 3,
      "metadata": {
        "id": "NMu_WaDA55sk"
      },
      "outputs": [],
      "source": [
        "# TODO: Implement PageRank, given nodes and edges, to start with a uniform\n",
        "# distribution over nodes, run a fixed number of iterations, and\n",
        "# return a distribution over nodes.\n",
        "import numpy as np\n",
        "\n",
        "def page_rank_fixed_iter(nodes, edges, iterations=10):\n",
        "  outboundLinks = {}\n",
        "  for singleNode in nodes:\n",
        "    outboundLinks[singleNode[0]] = []\n",
        "  for singleEdge in edges:\n",
        "    if singleEdge[0] in outboundLinks.keys():\n",
        "      outboundLinks[singleEdge[0]].append(singleEdge[1])\n",
        "\n",
        "  P = len(nodes)\n",
        "  I = np.ones(P) / P\n",
        "  \n",
        "  for i in range(iterations):\n",
        "    R = np.ones(P) * (0.15 / P)\n",
        "    \n",
        "    total = 0\n",
        "    for singleNode in nodes:\n",
        "      Q = outboundLinks[singleNode[0]]\n",
        "      calc = 0\n",
        "      if len(Q) > 0:\n",
        "        for linkNode in Q:\n",
        "          R[linkNode] = R[linkNode] + (1 - 0.15) * I[singleNode[0]] / len(Q)\n",
        "      else:\n",
        "        calc = calc + 1\n",
        "      total = total + calc * ((1 - 0.15) * I[singleNode[0]] / P)\n",
        "    \n",
        "    for singleNode in nodes:\n",
        "      R[singleNode[0]] = R[singleNode[0]] + total\n",
        "    I = R[:]\n",
        "  \n",
        "  result = R[:]\n",
        "  R = {}\n",
        "  for ele in range(len(result)):\n",
        "    R[nodes[ele][1]] = result[ele]\n",
        "  return R\n",
        "\n"
      ]
    },
    {
      "cell_type": "code",
      "source": [
        "# Output PageRank on the toy graph at various points.\n",
        "# Make sure your output has node number, name, and PageRank value.\n",
        "print(page_rank_fixed_iter(small_nodes, small_edges, 1))\n",
        "print(page_rank_fixed_iter(small_nodes, small_edges, 10))\n",
        "print(page_rank_fixed_iter(small_nodes, small_edges, 100))"
      ],
      "metadata": {
        "colab": {
          "base_uri": "https://localhost:8080/"
        },
        "id": "i_QP5cQTzqhG",
        "outputId": "88e83013-f109-4270-bd29-322c3fb4dcb8"
      },
      "execution_count": 4,
      "outputs": [
        {
          "output_type": "stream",
          "name": "stdout",
          "text": [
            "{'A': 0.24930555555555556, 'B': 0.11944444444444444, 'C': 0.14305555555555555, 'D': 0.13124999999999998, 'E': 0.21388888888888885, 'F': 0.14305555555555555}\n",
            "{'A': 0.25203637602817186, 'B': 0.13930650918251075, 'C': 0.15129376593475066, 'D': 0.11896297277689877, 'E': 0.18710661014291707, 'F': 0.15129376593475066}\n",
            "{'A': 0.25212710537519556, 'B': 0.13930618531853856, 'C': 0.15130648986670525, 'D': 0.11890782257353917, 'E': 0.18704590699931606, 'F': 0.15130648986670525}\n"
          ]
        }
      ]
    },
    {
      "cell_type": "markdown",
      "metadata": {
        "id": "y4duRjzABB9n"
      },
      "source": [
        "## PageRank on Web Crawl Data\n",
        "\n",
        "\\[20 points\\] Download and unpack a list of `.edu` websites and the links among them from the [Common Crawl](https://commoncrawl.org/2017/05/hostgraph-2017-feb-mar-apr-crawls/) open-source web crawl. For the sake of brevity, the data record links among websites, not web pages. The information for nodes and links is the same as the toy example above."
      ]
    },
    {
      "cell_type": "code",
      "execution_count": 5,
      "metadata": {
        "id": "v6EDDdTQCd3y",
        "colab": {
          "base_uri": "https://localhost:8080/"
        },
        "outputId": "af12c2e1-719c-4e42-b205-4d688fb15d8f"
      },
      "outputs": [
        {
          "output_type": "stream",
          "name": "stdout",
          "text": [
            "--2022-10-18 18:29:50--  https://ccs.neu.edu/home/dasmith/courses/cs6200/vertices-edu.txt.gz\n",
            "Resolving ccs.neu.edu (ccs.neu.edu)... 52.70.229.197\n",
            "Connecting to ccs.neu.edu (ccs.neu.edu)|52.70.229.197|:443... connected.\n",
            "HTTP request sent, awaiting response... 200 OK\n",
            "Length: 3703486 (3.5M) [application/x-gzip]\n",
            "Saving to: ‘vertices-edu.txt.gz’\n",
            "\n",
            "vertices-edu.txt.gz 100%[===================>]   3.53M  --.-KB/s    in 0.1s    \n",
            "\n",
            "2022-10-18 18:29:51 (25.6 MB/s) - ‘vertices-edu.txt.gz’ saved [3703486/3703486]\n",
            "\n",
            "--2022-10-18 18:29:51--  https://ccs.neu.edu/home/dasmith/courses/cs6200/edges-edu.txt.gz\n",
            "Resolving ccs.neu.edu (ccs.neu.edu)... 52.70.229.197\n",
            "Connecting to ccs.neu.edu (ccs.neu.edu)|52.70.229.197|:443... connected.\n",
            "HTTP request sent, awaiting response... 200 OK\n",
            "Length: 12829526 (12M) [application/x-gzip]\n",
            "Saving to: ‘edges-edu.txt.gz’\n",
            "\n",
            "edges-edu.txt.gz    100%[===================>]  12.23M  59.4MB/s    in 0.2s    \n",
            "\n",
            "2022-10-18 18:29:51 (59.4 MB/s) - ‘edges-edu.txt.gz’ saved [12829526/12829526]\n",
            "\n"
          ]
        }
      ],
      "source": [
        "# If you're running on a machine (e.g., Windows) that doesn't have wget or gzip,\n",
        "# feel free to comment this out and use a different set of commands to load\n",
        "# the data.\n",
        "!wget https://ccs.neu.edu/home/dasmith/courses/cs6200/vertices-edu.txt.gz\n",
        "!gzip -df vertices-edu.txt.gz\n",
        "!wget https://ccs.neu.edu/home/dasmith/courses/cs6200/edges-edu.txt.gz\n",
        "!gzip -df edges-edu.txt.gz"
      ]
    },
    {
      "cell_type": "markdown",
      "metadata": {
        "id": "CW4yp1gPUwzb"
      },
      "source": [
        "There should now be files `vertices-edu.txt` and `edges-edu.txt`."
      ]
    },
    {
      "cell_type": "code",
      "execution_count": 6,
      "metadata": {
        "id": "ly1t9fyjK7eC",
        "colab": {
          "base_uri": "https://localhost:8080/"
        },
        "outputId": "62d7c43a-b86f-4a7f-b807-d59e2b8725ac"
      },
      "outputs": [
        {
          "output_type": "stream",
          "name": "stdout",
          "text": [
            "[(0, 'edu.00zl5e'), (1, 'edu.06hxbt'), (2, 'edu.082ifc'), (3, 'edu.083mjs'), (4, 'edu.09xzrr'), (5, 'edu.0aoqqj'), (6, 'edu.0ax4el'), (7, 'edu.0c5fez'), (8, 'edu.0cosn2'), (9, 'edu.0dcdp8')]\n",
            "[(386, 440), (19202, 1033), (103884, 2635), (342306, 7399), (8366, 8312), (8358, 8312), (8949, 8987), (8982, 8987), (8910, 8987), (9028, 8999)]\n"
          ]
        }
      ],
      "source": [
        "# TODO: Process the raw data into the same format as the simple graph.\n",
        "# You may create lists or iterators.\n",
        "import string\n",
        "big_nodes = []\n",
        "big_edges = []\n",
        "\n",
        "f1 = open('vertices-edu.txt')\n",
        "f2 = open('edges-edu.txt')\n",
        "\n",
        "for line in f1:\n",
        "  tmp = line.split(' ')\n",
        "  big_nodes.append((int(tmp[0]),tmp[1].strip('\\n')))\n",
        "\n",
        "for line in f2:\n",
        "  tmp = line.split(' ')\n",
        "  big_edges.append((int(tmp[0]),int(tmp[1].strip('\\n'))))\n",
        "\n",
        "print(big_nodes[:10])\n",
        "print(big_edges[:10])"
      ]
    },
    {
      "cell_type": "markdown",
      "metadata": {
        "id": "0WMf5L5VEqZb"
      },
      "source": [
        "Refine your implementation of PageRank to test for numerical convergence. Specificially, at each iteration, calculate the [perplexity](https://en.wikipedia.org/wiki/Perplexity) of the PageRank distribution, where perplexity is defined as 2 raised to the [Shannon entropy](https://en.wikipedia.org/wiki/Entropy_(information_theory)) of the PageRank distribution, i.e., $2^{H(PR)}$. (Recall the definition of entropy from our discussion of data compression.) The maximum perplexity of a PageRank distribution will therefore be the number of nodes in the graph.\n",
        "\n",
        "At each iteration, check the _change_ in perplexity. If the change is less than some threshold, you can stop.\n"
      ]
    },
    {
      "cell_type": "code",
      "execution_count": 11,
      "metadata": {
        "id": "wsL0yQKvKqAC",
        "colab": {
          "base_uri": "https://localhost:8080/"
        },
        "outputId": "f92bdd96-e6ab-4be0-b6a0-db568b51423b"
      },
      "outputs": [
        {
          "output_type": "stream",
          "name": "stdout",
          "text": [
            "1 iteration:\n",
            "6230.31110347081\n",
            "2 iteration:\n",
            "5602.781784251892\n",
            "3 iteration:\n",
            "5272.0703261129565\n",
            "4 iteration:\n",
            "5142.249454576224\n",
            "5 iteration:\n",
            "5072.052362184011\n",
            "6 iteration:\n",
            "5040.189409819244\n",
            "7 iteration:\n",
            "5020.550223015783\n",
            "8 iteration:\n",
            "5010.519028781535\n",
            "9 iteration:\n",
            "5003.593503260447\n",
            "10 iteration:\n",
            "4999.783093084004\n",
            "11 iteration:\n",
            "4996.84173936159\n",
            "12 iteration:\n",
            "4995.137058685129\n",
            "13 iteration:\n",
            "4993.70762958829\n",
            "14 iteration:\n",
            "4992.836003916483\n"
          ]
        }
      ],
      "source": [
        "# TODO: Implement convergence testing in PageRank\n",
        "# If you choose, you can share some subroutines with your first version.\n",
        "# Print the change in perplexity at each iteration.\n",
        "import numpy as np\n",
        "import math\n",
        "from itertools import count\n",
        "\n",
        "def page_rank(nodes, edges, threshold=1):\n",
        "  outboundLinks = {}\n",
        "  for singleNode in nodes:\n",
        "    outboundLinks[singleNode[0]] = []\n",
        "  for singleEdge in edges:\n",
        "    if singleEdge[0] in outboundLinks.keys():\n",
        "      outboundLinks[singleEdge[0]].append(singleEdge[1])\n",
        "\n",
        "  P = len(nodes)\n",
        "  I = np.ones(P) / P\n",
        "  begin = 0\n",
        "  for i in count():\n",
        "    R = np.ones(P) * (0.15 / P)\n",
        "    \n",
        "    total = 0\n",
        "    for singleNode in nodes:\n",
        "      Q = outboundLinks[singleNode[0]]\n",
        "      calc = 0\n",
        "      if len(Q) > 0:\n",
        "        for linkNode in Q:\n",
        "          R[linkNode] = R[linkNode] + (1 - 0.15) * I[singleNode[0]] / len(Q)\n",
        "      else:\n",
        "        calc = calc + 1 \n",
        "      total = total + calc * ((1 - 0.15) * I[singleNode[0]] / P)\n",
        "\n",
        "    for singelNode in nodes:\n",
        "      R[singelNode[0]] = R[singelNode[0]] + total\n",
        "    I = R[:]\n",
        "    E = 0\n",
        "    for singeNode in nodes:\n",
        "      E = E + I[singeNode[0]] * math.log(I[singeNode[0]])\n",
        "    perp = 2**(-E)\n",
        "    print(\"%d iteration:\" % (i + 1))\n",
        "    print(perp)\n",
        "    if abs(perp - begin) < threshold:\n",
        "      break\n",
        "    else:\n",
        "      begin = perp\n",
        "  result = R[:]\n",
        "  R = {}\n",
        "  for ele in range(len(result)):\n",
        "    R[nodes[ele][1]] = result[ele]\n",
        "  return R\n",
        "      \n",
        "# Run until perplexity changes by less than 1\n",
        "PR = page_rank(big_nodes, big_edges, 1)"
      ]
    },
    {
      "cell_type": "markdown",
      "metadata": {
        "id": "rcncY2QHNl0M"
      },
      "source": [
        "## Link Analysis\n",
        "\n",
        "\\[20 points\\] In this final section, you will compute some properties of the web-site graph you downloaded.\n",
        "\n",
        "First, consider the _in-link count_ of a website, simply the number of web-sites pointing to it (including self-links). "
      ]
    },
    {
      "cell_type": "code",
      "execution_count": 12,
      "metadata": {
        "id": "a_FyPlLSO2bu",
        "colab": {
          "base_uri": "https://localhost:8080/"
        },
        "outputId": "2e5c7b14-6471-4307-8115-54d844c52c24"
      },
      "outputs": [
        {
          "output_type": "stream",
          "name": "stdout",
          "text": [
            "[((185524, 'edu.mit.web'), 4388), ((278032, 'edu.stanford'), 4021), ((244433, 'edu.purdue.english.owl'), 3531), ((140443, 'edu.indiana'), 3339), ((237176, 'edu.princeton'), 3251), ((64587, 'edu.columbia'), 3123), ((465503, 'edu.yale'), 2804), ((418623, 'edu.utexas'), 2622), ((383763, 'edu.unc'), 2592), ((197698, 'edu.nap'), 2494), ((439637, 'edu.washington'), 2291), ((373442, 'edu.umich'), 2281), ((440674, 'edu.washington.depts'), 2276), ((148945, 'edu.jhu.muse'), 2255), ((60975, 'edu.colorado'), 2232), ((449738, 'edu.wisc'), 2230), ((38320, 'edu.bu'), 2205), ((83572, 'edu.dartmouth'), 1965), ((408380, 'edu.usc'), 1952), ((178879, 'edu.mit'), 1946), ((27307, 'edu.berkeley'), 1908), ((233405, 'edu.pitt'), 1857), ((191069, 'edu.msu'), 1810), ((326371, 'edu.uchicago.press'), 1763), ((136464, 'edu.illinois'), 1753), ((93874, 'edu.educause'), 1741), ((56979, 'edu.cmu.cs'), 1730), ((199032, 'edu.ncsu'), 1709), ((36294, 'edu.brown'), 1702), ((202182, 'edu.nd'), 1689), ((68675, 'edu.cornell'), 1685), ((71095, 'edu.cornell.law'), 1646), ((183214, 'edu.mit.mitpress'), 1644), ((215627, 'edu.nyu'), 1625), ((56538, 'edu.cmu'), 1583), ((239378, 'edu.psu'), 1541), ((350412, 'edu.ufl'), 1533), ((120819, 'edu.harvard'), 1529), ((270369, 'edu.si'), 1513), ((107916, 'edu.gatech'), 1500), ((365396, 'edu.uky'), 1497), ((337138, 'edu.ucop'), 1482), ((358246, 'edu.uic'), 1472), ((382564, 'edu.umn.www1'), 1470), ((403069, 'edu.upenn'), 1464), ((293521, 'edu.tamu'), 1452), ((284517, 'edu.stanford.web'), 1451), ((256613, 'edu.rutgers'), 1440), ((367316, 'edu.umass'), 1430), ((457936, 'edu.wsu'), 1419), ((36154, 'edu.brookings'), 1388), ((323918, 'edu.uchicago'), 1377), ((440902, 'edu.washington.faculty'), 1363), ((282555, 'edu.stanford.plato'), 1353), ((392894, 'edu.universityofcalifornia'), 1353), ((329686, 'edu.ucla'), 1347), ((317828, 'edu.ucdavis'), 1343), ((354337, 'edu.uga'), 1339), ((225417, 'edu.osu'), 1322), ((393138, 'edu.unl'), 1319)]\n"
          ]
        }
      ],
      "source": [
        "# TODO: List the document ID, domain name, and in-link count of the 60 websites with the highest in-link count\n",
        "inboundLinks = {}\n",
        "reverse_edges = []\n",
        "for edge in big_edges:\n",
        "  reverse_edges.append((edge[1],edge[0]))\n",
        "\n",
        "inboundLinks = {}\n",
        "for singleNode in big_nodes:\n",
        "  inboundLinks[singleNode[0]] = []\n",
        "for singleEdge in reverse_edges:\n",
        "  if singleEdge[0] in inboundLinks.keys():\n",
        "    inboundLinks[singleEdge[0]].append(singleEdge[1])\n",
        "\n",
        "count = {}\n",
        "for key,value in inboundLinks.items():\n",
        "  count[key] = len(value)\n",
        "\n",
        "count = sorted(count.items(), key=lambda x: x[1], reverse = True)\n",
        "result = []\n",
        "for countItem in count[:60]:\n",
        "  result.append((big_nodes[countItem[0]],countItem[1]))\n",
        "print(result)"
      ]
    },
    {
      "cell_type": "markdown",
      "metadata": {
        "id": "5uSlQEtmPTTA"
      },
      "source": [
        "Then, use the PageRank values compute by your second implementation. Note that some websites will have both a high in-link count and PageRank."
      ]
    },
    {
      "cell_type": "code",
      "execution_count": 13,
      "metadata": {
        "id": "nwcci2kdPlMR",
        "colab": {
          "base_uri": "https://localhost:8080/"
        },
        "outputId": "3cbb64f4-b544-474e-c099-7cd0f2158687"
      },
      "outputs": [
        {
          "output_type": "stream",
          "name": "stdout",
          "text": [
            "[(185524, 'edu.mit.web', 0.000928978898154372), (465503, 'edu.yale', 0.0006987101785944766), (278032, 'edu.stanford', 0.0005950595762236685), (318278, 'edu.ucdavis.cas', 0.0005802156798546758), (136464, 'edu.illinois', 0.0005799394526666204), (237176, 'edu.princeton', 0.0005024009789224997), (319795, 'edu.ucdavis.ice.code', 0.0004948607254235917), (284517, 'edu.stanford.web', 0.0004752332345921687), (383763, 'edu.unc', 0.00047227506899357135), (64587, 'edu.columbia', 0.00044779743971780925), (449738, 'edu.wisc', 0.00043631547091175084), (60975, 'edu.colorado', 0.000432757645949801), (346969, 'edu.ucsf', 0.0004299414187967938), (140443, 'edu.indiana', 0.00042987889225767033), (334739, 'edu.uconn', 0.0004127743141853516), (42502, 'edu.byu.cas', 0.00041210612656012645), (14945, 'edu.arizona', 0.0004092741252289774), (244433, 'edu.purdue.english.owl', 0.0004034198774626775), (373442, 'edu.umich', 0.0004021473017497311), (439637, 'edu.washington', 0.000398833345064602), (408380, 'edu.usc', 0.0003918205109794833), (281817, 'edu.stanford.med', 0.00039181278236941053), (191069, 'edu.msu', 0.00039166187893597876), (418623, 'edu.utexas', 0.00038234787642101443), (239378, 'edu.psu', 0.0003788321405160623), (68675, 'edu.cornell', 0.0003738876091759957), (153823, 'edu.kit', 0.00035806541954048544), (342997, 'edu.ucsd', 0.0003579913079612828), (293521, 'edu.tamu', 0.00035684684248768955), (197698, 'edu.nap', 0.0003533618581036117), (337138, 'edu.ucop', 0.0003458261740310393), (233405, 'edu.pitt', 0.00034458056152089937), (307291, 'edu.ttu.depts', 0.00034003183274338453), (323918, 'edu.uchicago', 0.00033748301506533523), (225417, 'edu.osu', 0.0003348410597849397), (126385, 'edu.harvard.pin1', 0.0003309092835370247), (317828, 'edu.ucdavis', 0.00032732869669233647), (459977, 'edu.wustl', 0.00032687015790242664), (358246, 'edu.uic', 0.0003250780782961546), (256613, 'edu.rutgers', 0.0003197799085678528), (440674, 'edu.washington.depts', 0.00031727827618006227), (120819, 'edu.harvard', 0.0003120810717473251), (71095, 'edu.cornell.law', 0.0003105018682350553), (392894, 'edu.universityofcalifornia', 0.0003093080923349127), (227645, 'edu.ou', 0.00030849700390866964), (415321, 'edu.utah', 0.00030842812430203754), (107916, 'edu.gatech', 0.00030258478612501643), (230724, 'edu.paulmitchell', 0.0002992266773005527), (202182, 'edu.nd', 0.0002982579909891303), (27307, 'edu.berkeley', 0.000294711556988917), (38320, 'edu.bu', 0.00029457161060579144), (56538, 'edu.cmu', 0.00029069231780016395), (310453, 'edu.ua', 0.0002891615223992698), (369944, 'edu.umd', 0.00028272821802396715), (466684, 'edu.yale.its.secure', 0.00028188804109141363), (178879, 'edu.mit', 0.00028055877904654226), (148945, 'edu.jhu.muse', 0.00027602225735167383), (144435, 'edu.iu', 0.0002744249559039983), (416152, 'edu.utah.go', 0.0002713135443289123), (46450, 'edu.caltech', 0.00027064127506551514)]\n"
          ]
        }
      ],
      "source": [
        "# TODO: List the document ID, domain name, and PageRank of the 60 websites with the highest PageRank.\n",
        "resultPR = sorted(PR.items(), key=lambda x: x[1], reverse = True)\n",
        "resultPR = resultPR[:60]\n",
        "reverse_nodes = {}\n",
        "for singleNode in big_nodes:\n",
        "  reverse_nodes[singleNode[1]] = singleNode[0]\n",
        "\n",
        "resultset = []\n",
        "for singleItem in resultPR:\n",
        "  resultset.append((reverse_nodes[singleItem[0]],singleItem[0],singleItem[1]))\n",
        "print(resultset)"
      ]
    },
    {
      "cell_type": "markdown",
      "metadata": {
        "id": "SxODBxL_Pyy2"
      },
      "source": [
        "Finally, compute some summary statistics on this dataset."
      ]
    },
    {
      "cell_type": "code",
      "source": [
        "outboundLinks = {}\n",
        "for singleNode in big_nodes:\n",
        "  outboundLinks[singleNode[0]] = []\n",
        "for singleEdge in big_edges:\n",
        "  if singleEdge[0] in outboundLinks.keys():\n",
        "    outboundLinks[singleEdge[0]].append(singleEdge[1])"
      ],
      "metadata": {
        "id": "_7BKS5EZZDk6"
      },
      "execution_count": 24,
      "outputs": []
    },
    {
      "cell_type": "code",
      "execution_count": 25,
      "metadata": {
        "id": "oD4bq6AyQIsU",
        "colab": {
          "base_uri": "https://localhost:8080/"
        },
        "outputId": "e0a17f64-0dc3-4ede-8a77-4c57b9467022"
      },
      "outputs": [
        {
          "output_type": "stream",
          "name": "stdout",
          "text": [
            "0.26153633041013563\n",
            "0.6106641661427643\n",
            "0.1552953211077605\n"
          ]
        }
      ],
      "source": [
        "# TODO: Compute:\n",
        "# - the proportion of websites with no in-links (i.e., source nodes);\n",
        "count = {}\n",
        "for key,value in inboundLinks.items():\n",
        "  count[key] = len(value)\n",
        "calc = 0\n",
        "for val in count.values():\n",
        "  if val == 0:\n",
        "    calc = calc + 1\n",
        "print(calc / len(big_nodes))\n",
        "# - the proportion of websites with no out-links (i.e., sink nodes);\n",
        "calc = 0\n",
        "for val in outboundLinks.values():\n",
        "  if len(val) == 0:\n",
        "    calc = calc + 1\n",
        "print(calc / len(big_nodes))\n",
        "# - the proportion of websites whose PageRank is higher than the initial uniform distribution.\n",
        "calc = 0\n",
        "begin = 1 / len(big_nodes) \n",
        "for val in PR.values():\n",
        "  if val > begin:\n",
        "    calc = calc + 1\n",
        "print(calc / len(big_nodes))"
      ]
    }
  ],
  "metadata": {
    "colab": {
      "provenance": []
    },
    "kernelspec": {
      "display_name": "Python 3 (ipykernel)",
      "language": "python",
      "name": "python3"
    },
    "language_info": {
      "codemirror_mode": {
        "name": "ipython",
        "version": 3
      },
      "file_extension": ".py",
      "mimetype": "text/x-python",
      "name": "python",
      "nbconvert_exporter": "python",
      "pygments_lexer": "ipython3",
      "version": "3.9.7"
    }
  },
  "nbformat": 4,
  "nbformat_minor": 0
}