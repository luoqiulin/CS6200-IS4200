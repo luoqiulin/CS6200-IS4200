{
  "cells": [
    {
      "cell_type": "markdown",
      "metadata": {
        "id": "2yYCQrU0J5C5"
      },
      "source": [
        "# Working with Terms and Documents\n",
        "\n",
        "This first homework assignment starts off with term statistics computations and graphing. In the final section (for CS6200 students), you collect new documents to experiment with.\n",
        "\n",
        "Read through this Jupyter notebook and fill in the parts marked with `TODO`."
      ]
    },
    {
      "cell_type": "markdown",
      "metadata": {
        "id": "tA4bCPS1MmAx"
      },
      "source": [
        "## Sample Data\n",
        "\n",
        "Start by looking at some sample data. We donwload the counts of terms in documents for the first one million tokens of a newswire collection."
      ]
    },
    {
      "cell_type": "code",
      "execution_count": null,
      "metadata": {
        "colab": {
          "base_uri": "https://localhost:8080/"
        },
        "id": "W-IMINS4IFUg",
        "outputId": "7f7cbfae-534a-4fc1-8c20-698cf7f391d2"
      },
      "outputs": [
        {
          "name": "stdout",
          "output_type": "stream",
          "text": [
            "--2022-10-03 19:21:56--  https://github.com/dasmiq/cs6200-hw1/blob/main/ap201001.json.gz?raw=true\n",
            "Resolving github.com (github.com)... 20.27.177.113\n",
            "Connecting to github.com (github.com)|20.27.177.113|:443... connected.\n",
            "HTTP request sent, awaiting response... 302 Found\n",
            "Location: https://github.com/dasmiq/cs6200-hw1/raw/main/ap201001.json.gz [following]\n",
            "--2022-10-03 19:21:56--  https://github.com/dasmiq/cs6200-hw1/raw/main/ap201001.json.gz\n",
            "Reusing existing connection to github.com:443.\n",
            "HTTP request sent, awaiting response... 302 Found\n",
            "Location: https://raw.githubusercontent.com/dasmiq/cs6200-hw1/main/ap201001.json.gz [following]\n",
            "--2022-10-03 19:21:57--  https://raw.githubusercontent.com/dasmiq/cs6200-hw1/main/ap201001.json.gz\n",
            "Resolving raw.githubusercontent.com (raw.githubusercontent.com)... 185.199.108.133, 185.199.109.133, 185.199.110.133, ...\n",
            "Connecting to raw.githubusercontent.com (raw.githubusercontent.com)|185.199.108.133|:443... connected.\n",
            "HTTP request sent, awaiting response... 200 OK\n",
            "Length: 2854711 (2.7M) [application/octet-stream]\n",
            "Saving to: ‘ap201001.json.gz’\n",
            "\n",
            "ap201001.json.gz    100%[===================>]   2.72M  18.1MB/s    in 0.2s    \n",
            "\n",
            "2022-10-03 19:21:57 (18.1 MB/s) - ‘ap201001.json.gz’ saved [2854711/2854711]\n",
            "\n"
          ]
        }
      ],
      "source": [
        "!wget -O ap201001.json.gz https://github.com/dasmiq/cs6200-hw1/blob/main/ap201001.json.gz?raw=true\n",
        "!gunzip ap201001.json.gz"
      ]
    },
    {
      "cell_type": "markdown",
      "metadata": {
        "id": "_SEFjGZvM4lY"
      },
      "source": [
        "We convert this file with one JSON record on each line to a list of dictionaries."
      ]
    },
    {
      "cell_type": "code",
      "execution_count": null,
      "metadata": {
        "id": "6CrLD5SOIMz1"
      },
      "outputs": [],
      "source": [
        "import json\n",
        "rawfile = open('ap201001.json')\n",
        "terms = [json.loads(line) for line in rawfile]"
      ]
    },
    {
      "cell_type": "markdown",
      "metadata": {
        "id": "Rg4P9XJJM_lZ"
      },
      "source": [
        "Here are the first ten records, showing the count of each term for each document and field. In this dataset, field only takes the values `body` or `title`."
      ]
    },
    {
      "cell_type": "code",
      "execution_count": null,
      "metadata": {
        "colab": {
          "base_uri": "https://localhost:8080/"
        },
        "id": "g8GdOuyzI0wm",
        "outputId": "95fb9111-d417-4f34-e659-5a18f434fd41"
      },
      "outputs": [
        {
          "data": {
            "text/plain": [
              "[{'id': 'APW_ENG_20100101.0001', 'field': 'body', 'term': 'about', 'count': 1},\n",
              " {'id': 'APW_ENG_20100101.0001', 'field': 'body', 'term': 'abuse', 'count': 1},\n",
              " {'id': 'APW_ENG_20100101.0001',\n",
              "  'field': 'body',\n",
              "  'term': 'academy',\n",
              "  'count': 1},\n",
              " {'id': 'APW_ENG_20100101.0001',\n",
              "  'field': 'body',\n",
              "  'term': 'accused',\n",
              "  'count': 2},\n",
              " {'id': 'APW_ENG_20100101.0001',\n",
              "  'field': 'body',\n",
              "  'term': 'actress',\n",
              "  'count': 1},\n",
              " {'id': 'APW_ENG_20100101.0001', 'field': 'body', 'term': 'ad', 'count': 1},\n",
              " {'id': 'APW_ENG_20100101.0001', 'field': 'body', 'term': 'after', 'count': 1},\n",
              " {'id': 'APW_ENG_20100101.0001',\n",
              "  'field': 'body',\n",
              "  'term': 'agenda',\n",
              "  'count': 1},\n",
              " {'id': 'APW_ENG_20100101.0001',\n",
              "  'field': 'body',\n",
              "  'term': 'agreed',\n",
              "  'count': 1}]"
            ]
          },
          "execution_count": 5,
          "metadata": {},
          "output_type": "execute_result"
        }
      ],
      "source": [
        "terms[1:10]"
      ]
    },
    {
      "cell_type": "markdown",
      "metadata": {
        "id": "q-CjFLXH3BJg"
      },
      "source": [
        "Each record has four fields:\n",
        "* `id`, with the identifier for the document;\n",
        "* `field`, with the region of the document containing a given term;\n",
        "* `term`, with the lower-cased term; and\n",
        "* `count`, with the number of times each term occurred in that field and document."
      ]
    },
    {
      "cell_type": "markdown",
      "metadata": {
        "id": "2H5yBvEVNUPr"
      },
      "source": [
        "## Computing Term Statistics\n"
      ]
    },
    {
      "cell_type": "markdown",
      "metadata": {
        "id": "qhDt23kKv0Uy"
      },
      "source": [
        "If we look at the most frequent terms for a given document, we mostly see common function words, such as `the`, `and`, and `of`. Start exploring the dataset by computing some of these basic term statistics. You can make your life easier using data frame libraries such as `pandas`, core python libraries such as `collections`, or just simple list comprehensions.\n",
        "\n",
        "Feel free to define helper functions in your code before computing the statistics we're looking for."
      ]
    },
    {
      "cell_type": "code",
      "execution_count": null,
      "metadata": {
        "id": "2Zy5qR562nZ5"
      },
      "outputs": [],
      "source": [
        "# TODO: Print the 6 terms from document APW_ENG_20100101.0001 with the highest count.\n",
        "planTerms = []\n",
        "for record1 in terms:\n",
        "  if record1['id'] == 'APW_ENG_20100101.0001':\n",
        "    planTerms.append(record1)\n",
        "planTerms = sorted(planTerms, key = lambda x : x['count'], reverse = True)\n",
        "for ele in planTerms[:6]:\n",
        "  print(ele['term'])\n",
        "\n",
        "  "
      ]
    },
    {
      "cell_type": "code",
      "execution_count": null,
      "metadata": {
        "id": "z7BvW8NR2ynC"
      },
      "outputs": [],
      "source": [
        "# TODO: Print the 10 terms from all fields of document APW_ENG_20100102.0077 with the highest count.\n",
        "planTerms = []\n",
        "for record2 in terms:\n",
        "  if record2['id'] == 'APW_ENG_20100102.0077':\n",
        "    planTerms.append(record2)\n",
        "planTerms = sorted(planTerms, key = lambda x : x['count'], reverse = True)\n",
        "for ele in planTerms[:10]:\n",
        "  print(ele['term'])"
      ]
    },
    {
      "cell_type": "code",
      "execution_count": null,
      "metadata": {
        "id": "U7OwCo0w5R1q"
      },
      "outputs": [],
      "source": [
        "# TODO: Print the 10 terms with the highest total count in the corpus.\n",
        "planTerms = []\n",
        "result = []\n",
        "for record3 in terms:\n",
        "  planTerms.append(record3)\n",
        "planTerms = sorted(planTerms, key = lambda x : x['count'], reverse = True)\n",
        "for ele in planTerms:\n",
        "  if ele['term'] in result:\n",
        "    continue\n",
        "  else:\n",
        "    result.append(ele['term'])\n",
        "    print(ele['term'])\n",
        "\n",
        "  if len(result) == 10:\n",
        "    break"
      ]
    },
    {
      "cell_type": "markdown",
      "metadata": {
        "id": "dnNEUACW23Dd"
      },
      "source": [
        "Raw counts may not be the most informative statistic. One common improvement is to use *inverse document frequency*, the inverse of the proportion of documents that contain a given term."
      ]
    },
    {
      "cell_type": "code",
      "execution_count": null,
      "metadata": {
        "id": "uiUA502P2QkH"
      },
      "outputs": [],
      "source": [
        "# TODO: Compute the number of distinct documents in the collection.\n",
        "N = 0\n",
        "disDoc = []\n",
        "for records in terms:\n",
        "  if records['id'] in disDoc:\n",
        "    continue\n",
        "  else:\n",
        "    disDoc.append(records['id'])\n",
        "N = len(disDoc)\n",
        "print(N)\n",
        "print('\\n')\n",
        "\n",
        "# TODO: Compute the number of distinct documents each term appears in\n",
        "# and store in a dictionary.\n",
        "df = dict()\n",
        "edTerms = []\n",
        "for record4 in terms:\n",
        "  edTerms.append(record4)\n",
        "edTerms = sorted(edTerms, key = lambda x : x['term'], reverse = False)\n",
        "defaultT = '0'\n",
        "for record5 in edTerms:\n",
        "  if record5['term'] != defaultT:\n",
        "    allDoc = []\n",
        "    defaultT = record5['term']\n",
        "    df[record5['term']] = 0\n",
        "  if record5['id'] not in allDoc:\n",
        "    df[record5['term']] += 1\n",
        "    allDoc.append(record5['id'])\n",
        "df"
      ]
    },
    {
      "cell_type": "code",
      "execution_count": null,
      "metadata": {
        "colab": {
          "base_uri": "https://localhost:8080/"
        },
        "id": "_XMPAKYNCq6Y",
        "outputId": "39ef02ca-ef5b-46e2-ed65-21213884bc6e"
      },
      "outputs": [
        {
          "name": "stdout",
          "output_type": "stream",
          "text": [
            "0.9704823614110871\n"
          ]
        }
      ],
      "source": [
        "# TODO: Print the relative document frequency of 'the',\n",
        "# i.e., the number of documents that contain 'the' divided by N.\n",
        "print(df['the'] / N)"
      ]
    },
    {
      "cell_type": "markdown",
      "metadata": {
        "id": "ohFmwtc7Chy3"
      },
      "source": [
        "priprintpr    dEmpricially, we usually see better retrieval results if we rescale term frequency (within documents) and inverse document frequency (across documents) with the log function. Let the `tfidf` of term _t_ in document _d_ be:\n",
        "```\n",
        "tfidf(t, d) = log(count(t, d) + 1) * log(N / df(t))\n",
        "```\n",
        "\n",
        "Later in the course, we will show a probabilistic derivation of this quantity based on smoothing language models."
      ]
    },
    {
      "cell_type": "code",
      "execution_count": null,
      "metadata": {
        "id": "Fmyj4v_uHdyo"
      },
      "outputs": [],
      "source": [
        "# TODO: Compute the tf-idf value for each term in each document.\n",
        "# Take the raw term data and add a tfidf field to each record.\n",
        "from math import log\n",
        "tfidf_terms = terms\n",
        "\n",
        "for solTerms in tfidf_terms:\n",
        "  tfdif = log(solTerms['count'] + 1) * log(N / df[solTerms['term']])\n",
        "  solTerms['tfdif'] = tfdif\n",
        "tfidf_terms"
      ]
    },
    {
      "cell_type": "code",
      "execution_count": null,
      "metadata": {
        "id": "NlXQmMO9HxH0"
      },
      "outputs": [],
      "source": [
        "# TODO: Print the 20 term-document pairs with the highest tf-idf values.\n",
        "reTerms = tfidf_terms\n",
        "reTerms = sorted(reTerms, key = lambda x : x['tfdif'], reverse = True)\n",
        "for ele in reTerms[:20]:\n",
        "  print((ele['term'], ele['id'], ele['tfdif']))"
      ]
    },
    {
      "cell_type": "markdown",
      "metadata": {
        "id": "f61xitl1IApl"
      },
      "source": [
        "## Plotting Term Distributions\n",
        "\n",
        "Besides frequencies and tf-idf values within documents, it is often helpful to look at the distrubitions of word frequencies in the whole collection. In class, we talk about the Zipf distribution of word rank versus frequency and Heaps' Law relating the number of distinct words to the number of tokens.\n",
        "\n",
        "We might examine these distributions to see, for instance, if an unexpectedly large number of very rare terms occurs, which might indicate noise added to our data."
      ]
    },
    {
      "cell_type": "code",
      "execution_count": null,
      "metadata": {
        "id": "fsM5k1_5Jj7Y"
      },
      "outputs": [],
      "source": [
        "# TODO: Compute a list of the distinct words in this collection and sort it in descending order of frequency.\n",
        "# Thus frequency[0] should contain the word \"the\" and the count 62216.\n",
        "frequency = []\n",
        "tmpDict = {}\n",
        "defaultT = 'a'\n",
        "totalCount = 0\n",
        "finTerms = sorted(edTerms, key = lambda x : x['term'], reverse = False)\n",
        "\n",
        "for record6 in finTerms:\n",
        "  if record6['term'] != defaultT:\n",
        "    tmpDict['term'] = defaultT\n",
        "    tmpDict['count'] = totalCount\n",
        "    frequency.append(tmpDict)\n",
        "    tmpDict = {}\n",
        "    defaultT = record6['term']\n",
        "    totalCount = 0\n",
        "  totalCount += record6['count']\n",
        "\n",
        "frequency = sorted(frequency, key = lambda x : x['count'], reverse = True)\n",
        "frequency"
      ]
    },
    {
      "cell_type": "code",
      "execution_count": null,
      "metadata": {
        "colab": {
          "base_uri": "https://localhost:8080/",
          "height": 306
        },
        "id": "hdtc14EULkxS",
        "outputId": "2c9ee522-7c5e-42f8-9e3c-889c422dc9f5"
      },
      "outputs": [
        {
          "data": {
            "text/plain": [
              "Text(0, 0.5, 'Frequency')"
            ]
          },
          "execution_count": 26,
          "metadata": {},
          "output_type": "execute_result"
        },
        {
          "data": {
            "image/png": "[encoded data removed]",
            "text/plain": [
              "<Figure size 432x288 with 1 Axes>"
            ]
          },
          "metadata": {},
          "output_type": "display_data"
        }
      ],
      "source": [
        "# TODO: Plot a graph of the log of the rank (starting at 1) on the x-axis,\n",
        "# against the log of the frequency on the y-axis. You may use the matplotlib\n",
        "# or other library.\n",
        "import matplotlib.pyplot as plt\n",
        "rank = 1\n",
        "rank_F = frequency\n",
        "for record9 in rank_F:\n",
        "  record9['rank'] = rank\n",
        "  rank = rank + 1\n",
        "\n",
        "tmp_X = []\n",
        "tmp_Y = []\n",
        "for record10 in rank_F:\n",
        "  tmp_X.append(record10['rank'])\n",
        "  tmp_Y.append(record10['count'])\n",
        "\n",
        "plt.loglog(tmp_X, tmp_Y)\n",
        "plt.xlabel(\"Rank\")\n",
        "plt.ylabel(\"Frequency\")"
      ]
    },
    {
      "cell_type": "code",
      "execution_count": null,
      "metadata": {
        "colab": {
          "base_uri": "https://localhost:8080/"
        },
        "id": "-WdHjFCSC7WC",
        "outputId": "d56739a3-be93-4753-f020-d9d0a745f71f"
      },
      "outputs": [
        {
          "data": {
            "text/plain": [
              "999996"
            ]
          },
          "execution_count": 32,
          "metadata": {},
          "output_type": "execute_result"
        }
      ],
      "source": [
        "# TODO: Compute the number of tokens in the corpus.\n",
        "# Remember to count each occurrence of each word. For instance, the 62,216\n",
        "# instances of \"the\" will all count here.\n",
        "ntokens = 0\n",
        "for ele_X in tmp_Y:\n",
        "  ntokens += ele_X\n",
        "ntokens"
      ]
    },
    {
      "cell_type": "code",
      "execution_count": null,
      "metadata": {
        "colab": {
          "base_uri": "https://localhost:8080/"
        },
        "id": "V_7wOcqKAz9m",
        "outputId": "bd7b2200-0a92-4bf7-ad59-c613a5b304c3"
      },
      "outputs": [
        {
          "data": {
            "text/plain": [
              "0.2215688862755451"
            ]
          },
          "execution_count": 34,
          "metadata": {},
          "output_type": "execute_result"
        }
      ],
      "source": [
        "# TODO: Compute the proportion of tokens made up by the top 10 most\n",
        "# frequent words.\n",
        "n_Ten = 0\n",
        "for ele_X in tmp_Y[:10]:\n",
        "  n_Ten += ele_X\n",
        "n_Ten / ntokens"
      ]
    },
    {
      "cell_type": "code",
      "execution_count": null,
      "metadata": {
        "colab": {
          "base_uri": "https://localhost:8080/"
        },
        "id": "uF-1VxcZBXMM",
        "outputId": "67486dc7-fd48-4c1e-face-e1720f6637c8"
      },
      "outputs": [
        {
          "data": {
            "text/plain": [
              "0.006641026564106256"
            ]
          },
          "execution_count": 35,
          "metadata": {},
          "output_type": "execute_result"
        }
      ],
      "source": [
        "# TODO: Compute the proportion of tokens made up by the words that occur\n",
        "# exactly once in this collection.\n",
        "n_Once = 0\n",
        "for ele_X in tmp_Y:\n",
        "  if ele_X == 1:\n",
        "    n_Once += ele_X\n",
        "n_Once / ntokens"
      ]
    },
    {
      "cell_type": "markdown",
      "metadata": {
        "id": "GdiUXaXZMFqT"
      },
      "source": [
        "## Acquiring New Documents (for CS6200)\n",
        "\n",
        "For this assignment so far, you've worked with data that's already been extracted, tokenized, and counted. In this final section, you'll explore acquiring new data.\n",
        "\n",
        "One common way of acquiring data is through application programming interfaces (APIs) to various databases. The Library of Congress's [_Chronicling America_](https://chroniclingamerica.loc.gov/) site aggregates digitized US newspapers from the past two hundred years, such as the [_Seattle Star_](https://chroniclingamerica.loc.gov/lccn/sn87093407/1922-09-19/ed-1/seq-1/) from 100 years ago.\n",
        "\n",
        "You can use [the API](https://chroniclingamerica.loc.gov/about/api/) to retrieve JSON data listing all issues of the _Seattle Star_: https://chroniclingamerica.loc.gov/lccn/sn87093407.json\n",
        "\n",
        "Note the list in the `issues` field. For example, here is the record for the September 19, 1922, issue: https://chroniclingamerica.loc.gov/lccn/sn87093407/1922-09-19/ed-1.json\n",
        "\n",
        "In that issue record, you'll see records for each page, e.g.: https://chroniclingamerica.loc.gov/lccn/sn87093407/1922-09-19/ed-1/seq-1.json\n",
        "\n",
        "And inside that page record, you'll see links to data about that page in various data formats, such as JPEG, PDF, and plain text, which is what we want here: https://chroniclingamerica.loc.gov/lccn/sn87093407/1922-09-19/ed-1/seq-1/ocr.txt\n",
        "\n",
        "This plain text was transcribed from the old page images using optical character recognition (OCR) models, and so contains errors.\n",
        "\n",
        "Your task is to acquire and analyze the issues of the _Seattle Star_ from the month of September, 1922, i.e., the issues with a date field that starts with `1922-09`. This should be about the same amount of data as the million words from the Associated Press you analyzed in the last section."
      ]
    },
    {
      "cell_type": "markdown",
      "metadata": {
        "id": "EGPVnXv2O6AN"
      },
      "source": [
        "**TODO**: Write code that calls the _Chronicling America_ API to download and extract the text from the _Seattle Star_ from September 1922. You can use the `json` library from above and any other libraries you wish to fetch data from URLs. As you would when working with any production API, you may need to limit your rate of requests."
      ]
    },
    {
      "cell_type": "code",
      "execution_count": null,
      "metadata": {
        "id": "VeDDz1SaPLik"
      },
      "outputs": [],
      "source": [
        "# TODO: Data acquisition code here\n",
        "import json\n",
        "import re\n",
        "\n",
        "!wget -O data.json https://chroniclingamerica.loc.gov/lccn/sn87093407.json\n",
        "rawfile = open('data.json')\n",
        "raw_item = [json.loads(line) for line in rawfile]\n",
        "\n",
        "total_item = []\n",
        "tmpDict = {}\n",
        "flag = 0\n",
        "id = 0\n",
        "\n",
        "for paperItems in raw_item[0]['issues']:\n",
        "  if re.match('1922-09', paperItems['date_issued']) != None:\n",
        "    flag = 1 \n",
        "  if flag == 1:\n",
        "    tmpDict[\"id\"] = id\n",
        "    tmpDict[\"url\"] = paperItems[\"url\"]\n",
        "    tmpDict[\"date_issued\"] = paperItems[\"date_issued\"]\n",
        "    total_item.append(tmpDict)\n",
        "    tmpDict = {}\n",
        "    id += 1\n",
        "\n",
        "for paperItems in total_item:\n",
        "  paperItems[\"url\"] = paperItems[\"url\"][:-5] + \"/seq-1/ocr.txt\"\n",
        "\n",
        "total_item"
      ]
    },
    {
      "cell_type": "code",
      "execution_count": null,
      "metadata": {
        "colab": {
          "background_save": true
        },
        "id": "9Q3j94o-dVdQ"
      },
      "outputs": [],
      "source": [
        "import requests\n",
        "import time\n",
        "\n",
        "storE = []\n",
        "for paperItems in total_item:\n",
        "  url = paperItems[\"url\"]\n",
        "  r = requests.get(url)\n",
        "  storeE = r.text\n",
        "  paperItems[\"text\"] = storeE\n",
        "  time.sleep(0.1)\n",
        "\n",
        "total_item"
      ]
    },
    {
      "cell_type": "markdown",
      "metadata": {
        "id": "L1-oRTixPKbw"
      },
      "source": [
        "**TODO**: Write code to tokenize the text and count the resulting terms in each document. Since this data comes from automatically transcribing printed pages, some words may be hyphenated across line breaks. There is more than one right way to tokenize this data, so add comments to your code documenting your choices."
      ]
    },
    {
      "cell_type": "code",
      "execution_count": null,
      "metadata": {
        "id": "Ydsh0h74Pnlh"
      },
      "outputs": [],
      "source": [
        "# TODO: Tokenization code here.\n",
        "all_t_item = total_item\n",
        "textCell = []\n",
        "prac_terms = []\n",
        "tmpDict = {}\n",
        "\n",
        "for eachItems in all_t_item:\n",
        "  eachItems['text'] = eachItems['text'].split()\n",
        "\n",
        "for eachItems in all_t_item:\n",
        "  textCell = eachItems['text']\n",
        "  id = eachItems['id']\n",
        "  wordsArr = {}\n",
        "  for textItems in textCell:\n",
        "    if re.match(r'^[a-zA-Z]{1,}$', textItems) != None:\n",
        "      if textItems not in wordsArr.keys():\n",
        "        wordsArr[textItems] = 1\n",
        "      else:\n",
        "        wordsArr[textItems] += 1\n",
        "  for kk, vv in wordsArr.items():\n",
        "    tmpDict['id'] = id\n",
        "    tmpDict['term'] = kk\n",
        "    tmpDict['count'] = vv\n",
        "    prac_terms.append(tmpDict)\n",
        "    tmpDict = {}\n",
        "\n",
        "prac_terms"
      ]
    },
    {
      "cell_type": "markdown",
      "metadata": {
        "id": "D-boFCotQ4Ur"
      },
      "source": [
        "**TODO**: Plot a graph of the log rank against log frequency for your collection, as you did for the sample collection above."
      ]
    },
    {
      "cell_type": "code",
      "execution_count": 83,
      "metadata": {
        "id": "-Z35asgBjiqO",
        "colab": {
          "base_uri": "https://localhost:8080/",
          "height": 301
        },
        "outputId": "39bfaf6f-61ea-4dbc-81a6-4f0581e84e33"
      },
      "outputs": [
        {
          "output_type": "execute_result",
          "data": {
            "text/plain": [
              "Text(0, 0.5, 'Frequency')"
            ]
          },
          "metadata": {},
          "execution_count": 83
        },
        {
          "output_type": "display_data",
          "data": {
            "text/plain": [
              "<Figure size 432x288 with 1 Axes>"
            ],
            "image/png": "[encoded data removed]"
          },
          "metadata": {
            "needs_background": "light"
          }
        }
      ],
      "source": [
        "# TODO: Plotting code here.\n",
        "import matplotlib.pyplot as plt\n",
        "from math import log\n",
        "\n",
        "N = 0\n",
        "disDoc = []\n",
        "for records in prac_terms:\n",
        "  if records['id'] in disDoc:\n",
        "    continue\n",
        "  else:\n",
        "    disDoc.append(records['id'])\n",
        "N = len(disDoc)\n",
        "\n",
        "df = dict()\n",
        "edTerms = []\n",
        "for record4 in prac_terms:\n",
        "  edTerms.append(record4)\n",
        "edTerms = sorted(edTerms, key = lambda x : x['term'], reverse = False)\n",
        "defaultT = '0'\n",
        "for record5 in edTerms:\n",
        "  if record5['term'] != defaultT:\n",
        "    allDoc = []\n",
        "    defaultT = record5['term']\n",
        "    df[record5['term']] = 0\n",
        "  if record5['id'] not in allDoc:\n",
        "    df[record5['term']] += 1\n",
        "    allDoc.append(record5['id'])\n",
        "\n",
        "tfidf_terms = prac_terms\n",
        "\n",
        "for solTerms in tfidf_terms:\n",
        "  tfdif = log(solTerms['count'] + 1) * log(N / df[solTerms['term']])\n",
        "  solTerms['tfdif'] = tfdif\n",
        "\n",
        "reTerms = tfidf_terms\n",
        "reTerms = sorted(reTerms, key = lambda x : x['tfdif'], reverse = True)\n",
        "\n",
        "frequency = []\n",
        "tmpDict = {}\n",
        "defaultT = 'a'\n",
        "totalCount = 0\n",
        "finTerms = sorted(edTerms, key = lambda x : x['term'], reverse = False)\n",
        "\n",
        "for record6 in finTerms:\n",
        "  if record6['term'] != defaultT:\n",
        "    tmpDict['term'] = defaultT\n",
        "    tmpDict['count'] = totalCount\n",
        "    frequency.append(tmpDict)\n",
        "    tmpDict = {}\n",
        "    defaultT = record6['term']\n",
        "    totalCount = 0\n",
        "  totalCount += record6['count']\n",
        "\n",
        "frequency = sorted(frequency, key = lambda x : x['count'], reverse = True)\n",
        "\n",
        "rank = 1\n",
        "rank_F = frequency\n",
        "for record9 in rank_F:\n",
        "  record9['rank'] = rank\n",
        "  rank = rank + 1\n",
        "\n",
        "tmp_X = []\n",
        "tmp_Y = []\n",
        "for record10 in rank_F:\n",
        "  tmp_X.append(record10['rank'])\n",
        "  tmp_Y.append(record10['count'])\n",
        "\n",
        "plt.loglog(tmp_X, tmp_Y)\n",
        "plt.xlabel(\"Rank\")\n",
        "plt.ylabel(\"Frequency\")\n"
      ]
    },
    {
      "cell_type": "markdown",
      "metadata": {
        "id": "D5B-h__CjpvI"
      },
      "source": [
        "**TODO**: What do you observe about the differences between the distributions of the Associated Press and Seattle Star collections? In this text box, give some possible reasons for these differences."
      ]
    },
    {
      "cell_type": "markdown",
      "source": [
        "The former image is more like a downward parabola than the latter, probably because the former has a higher proportion of low-frequency words."
      ],
      "metadata": {
        "id": "enKd9-nQDUMn"
      }
    }
  ],
  "metadata": {
    "colab": {
      "collapsed_sections": [],
      "provenance": []
    },
    "kernelspec": {
      "display_name": "Python 3",
      "name": "python3"
    },
    "language_info": {
      "name": "python"
    }
  },
  "nbformat": 4,
  "nbformat_minor": 0
}